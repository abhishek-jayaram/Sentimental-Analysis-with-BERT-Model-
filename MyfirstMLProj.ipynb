{
 "cells": [
  {
   "cell_type": "code",
   "execution_count": 1,
   "id": "27e83236",
   "metadata": {},
   "outputs": [
    {
     "name": "stdout",
     "output_type": "stream",
     "text": [
      "Looking in indexes: https://pypi.org/simple, https://download.pytorch.org/whl/cu116\n",
      "Requirement already satisfied: torch in c:\\users\\abhishek\\anaconda3\\lib\\site-packages (1.12.0+cu116)\n",
      "Requirement already satisfied: torchvision in c:\\users\\abhishek\\anaconda3\\lib\\site-packages (0.13.0+cu116)\n",
      "Requirement already satisfied: torchaudio in c:\\users\\abhishek\\anaconda3\\lib\\site-packages (0.12.0+cu116)\n",
      "Requirement already satisfied: typing-extensions in c:\\users\\abhishek\\anaconda3\\lib\\site-packages (from torch) (3.7.4.3)\n",
      "Requirement already satisfied: requests in c:\\users\\abhishek\\anaconda3\\lib\\site-packages (from torchvision) (2.26.0)\n",
      "Requirement already satisfied: pillow!=8.3.*,>=5.3.0 in c:\\users\\abhishek\\anaconda3\\lib\\site-packages (from torchvision) (8.4.0)\n",
      "Requirement already satisfied: numpy in c:\\users\\abhishek\\anaconda3\\lib\\site-packages (from torchvision) (1.19.5)\n",
      "Requirement already satisfied: urllib3<1.27,>=1.21.1 in c:\\users\\abhishek\\anaconda3\\lib\\site-packages (from requests->torchvision) (1.26.7)\n",
      "Requirement already satisfied: certifi>=2017.4.17 in c:\\users\\abhishek\\anaconda3\\lib\\site-packages (from requests->torchvision) (2022.5.18.1)\n",
      "Requirement already satisfied: charset-normalizer~=2.0.0 in c:\\users\\abhishek\\anaconda3\\lib\\site-packages (from requests->torchvision) (2.0.4)\n",
      "Requirement already satisfied: idna<4,>=2.5 in c:\\users\\abhishek\\anaconda3\\lib\\site-packages (from requests->torchvision) (3.2)\n"
     ]
    }
   ],
   "source": [
    "pip3 install torch torchvision torchaudio --extra-index-url https://download.pytorch.org/whl/cu116"
   ]
  },
  {
   "cell_type": "code",
   "execution_count": 2,
   "id": "02873e5e",
   "metadata": {},
   "outputs": [
    {
     "name": "stdout",
     "output_type": "stream",
     "text": [
      "Requirement already satisfied: transformers in c:\\users\\abhishek\\anaconda3\\lib\\site-packages (4.21.0.dev0)\n",
      "Requirement already satisfied: requests in c:\\users\\abhishek\\anaconda3\\lib\\site-packages (2.26.0)\n",
      "Requirement already satisfied: beautifulsoup4 in c:\\users\\abhishek\\anaconda3\\lib\\site-packages (4.10.0)\n",
      "Requirement already satisfied: pandas in c:\\users\\abhishek\\anaconda3\\lib\\site-packages (1.3.4)\n",
      "Requirement already satisfied: numpy in c:\\users\\abhishek\\anaconda3\\lib\\site-packages (1.19.5)\n",
      "Requirement already satisfied: regex!=2019.12.17 in c:\\users\\abhishek\\anaconda3\\lib\\site-packages (from transformers) (2021.8.3)\n",
      "Requirement already satisfied: tqdm>=4.27 in c:\\users\\abhishek\\anaconda3\\lib\\site-packages (from transformers) (4.62.3)\n",
      "Requirement already satisfied: pyyaml>=5.1 in c:\\users\\abhishek\\anaconda3\\lib\\site-packages (from transformers) (6.0)\n",
      "Requirement already satisfied: packaging>=20.0 in c:\\users\\abhishek\\anaconda3\\lib\\site-packages (from transformers) (21.0)\n",
      "Requirement already satisfied: huggingface-hub<1.0,>=0.1.0 in c:\\users\\abhishek\\anaconda3\\lib\\site-packages (from transformers) (0.8.1)\n",
      "Requirement already satisfied: tokenizers!=0.11.3,<0.13,>=0.11.1 in c:\\users\\abhishek\\anaconda3\\lib\\site-packages (from transformers) (0.12.1)\n",
      "Requirement already satisfied: filelock in c:\\users\\abhishek\\anaconda3\\lib\\site-packages (from transformers) (3.3.1)\n",
      "Requirement already satisfied: charset-normalizer~=2.0.0 in c:\\users\\abhishek\\anaconda3\\lib\\site-packages (from requests) (2.0.4)\n",
      "Requirement already satisfied: idna<4,>=2.5 in c:\\users\\abhishek\\anaconda3\\lib\\site-packages (from requests) (3.2)\n",
      "Requirement already satisfied: certifi>=2017.4.17 in c:\\users\\abhishek\\anaconda3\\lib\\site-packages (from requests) (2022.5.18.1)\n",
      "Requirement already satisfied: urllib3<1.27,>=1.21.1 in c:\\users\\abhishek\\anaconda3\\lib\\site-packages (from requests) (1.26.7)\n",
      "Requirement already satisfied: soupsieve>1.2 in c:\\users\\abhishek\\anaconda3\\lib\\site-packages (from beautifulsoup4) (2.2.1)\n",
      "Requirement already satisfied: python-dateutil>=2.7.3 in c:\\users\\abhishek\\anaconda3\\lib\\site-packages (from pandas) (2.8.2)\n",
      "Requirement already satisfied: pytz>=2017.3 in c:\\users\\abhishek\\anaconda3\\lib\\site-packages (from pandas) (2021.3)\n",
      "Requirement already satisfied: typing-extensions>=3.7.4.3 in c:\\users\\abhishek\\anaconda3\\lib\\site-packages (from huggingface-hub<1.0,>=0.1.0->transformers) (3.7.4.3)\n",
      "Requirement already satisfied: pyparsing>=2.0.2 in c:\\users\\abhishek\\anaconda3\\lib\\site-packages (from packaging>=20.0->transformers) (3.0.4)\n",
      "Requirement already satisfied: six>=1.5 in c:\\users\\abhishek\\anaconda3\\lib\\site-packages (from python-dateutil>=2.7.3->pandas) (1.15.0)\n",
      "Requirement already satisfied: colorama in c:\\users\\abhishek\\anaconda3\\lib\\site-packages (from tqdm>=4.27->transformers) (0.4.4)\n"
     ]
    }
   ],
   "source": [
    "pip install transformers requests beautifulsoup4 pandas numpy"
   ]
  },
  {
   "cell_type": "code",
   "execution_count": 6,
   "id": "fbb5f294",
   "metadata": {},
   "outputs": [],
   "source": [
    "from transformers import AutoTokenizer, AutoModelForSequenceClassification"
   ]
  },
  {
   "cell_type": "code",
   "execution_count": 7,
   "id": "fb12ced8",
   "metadata": {},
   "outputs": [],
   "source": [
    "import torch"
   ]
  },
  {
   "cell_type": "code",
   "execution_count": 8,
   "id": "1f7c2ca5",
   "metadata": {},
   "outputs": [],
   "source": [
    "import requests"
   ]
  },
  {
   "cell_type": "code",
   "execution_count": 9,
   "id": "bed58630",
   "metadata": {},
   "outputs": [],
   "source": [
    "from bs4 import BeautifulSoup"
   ]
  },
  {
   "cell_type": "code",
   "execution_count": 10,
   "id": "19efeb91",
   "metadata": {},
   "outputs": [],
   "source": [
    "import re"
   ]
  },
  {
   "cell_type": "code",
   "execution_count": 11,
   "id": "6c3f2210",
   "metadata": {},
   "outputs": [
    {
     "data": {
      "application/vnd.jupyter.widget-view+json": {
       "model_id": "8b87bf69d0d242aa80522fb1905cd2b2",
       "version_major": 2,
       "version_minor": 0
      },
      "text/plain": [
       "Downloading:   0%|          | 0.00/638M [00:00<?, ?B/s]"
      ]
     },
     "metadata": {},
     "output_type": "display_data"
    }
   ],
   "source": [
    "tokenizer = AutoTokenizer.from_pretrained('nlptown/bert-base-multilingual-uncased-sentiment')\n",
    "\n",
    "model = AutoModelForSequenceClassification.from_pretrained('nlptown/bert-base-multilingual-uncased-sentiment')"
   ]
  },
  {
   "cell_type": "code",
   "execution_count": 20,
   "id": "80dcecc5",
   "metadata": {},
   "outputs": [],
   "source": [
    "tokens = tokenizer.encode('It is okay, not bad', return_tensors='pt')"
   ]
  },
  {
   "cell_type": "code",
   "execution_count": 21,
   "id": "b7885d47",
   "metadata": {},
   "outputs": [],
   "source": [
    "result = model(tokens)"
   ]
  },
  {
   "cell_type": "code",
   "execution_count": 22,
   "id": "9a25ed7f",
   "metadata": {},
   "outputs": [
    {
     "data": {
      "text/plain": [
       "tensor([[-2.3490,  0.1989,  3.0520,  1.0311, -1.7423]],\n",
       "       grad_fn=<AddmmBackward0>)"
      ]
     },
     "execution_count": 22,
     "metadata": {},
     "output_type": "execute_result"
    }
   ],
   "source": [
    "result.logits"
   ]
  },
  {
   "cell_type": "code",
   "execution_count": 23,
   "id": "ec69dcbd",
   "metadata": {},
   "outputs": [
    {
     "data": {
      "text/plain": [
       "3"
      ]
     },
     "execution_count": 23,
     "metadata": {},
     "output_type": "execute_result"
    }
   ],
   "source": [
    "int(torch.argmax(result.logits))+1"
   ]
  },
  {
   "cell_type": "code",
   "execution_count": null,
   "id": "91f84169",
   "metadata": {},
   "outputs": [],
   "source": [
    "r = requests.get('https://www.tripadvisor.in/Restaurant_Review-g12392950-d15607057-Reviews-The_Bier_Library_Brewery_Kitchen-Bangalore_District_Karnataka.htmlhttps://www.yelp.com/biz/olive-garden-italian-restaurant-new-york-9?hrid=3_Tb3uMvEkoFqHd6q3GDtg')\n",
    "soup = BeautifulSoup(r.text, 'html.parser')\n",
    "regex = re.compile('.*comment.*')\n",
    "results = soup.find_all('p', {'class':regex})\n",
    "reviews = [result.text for result in results]"
   ]
  },
  {
   "cell_type": "code",
   "execution_count": 27,
   "id": "3d6beece",
   "metadata": {},
   "outputs": [
    {
     "data": {
      "text/plain": [
       "\"I came here with a group of 10 friends for lunch after church. When we asked the hostess how long the wait time would be to seat us, she did not have an estimate. We went upstairs to wait and after only a few minutes, we were seated. However, we had to sit separately at 2 different tables. I guess it would've taken too long to have all of us seated together.There were quite a few options that caught my eye. I was debating between the chicken and shrimp carbonara pasta or the steak gorgonzola alfredo pasta. I finally decided on the chicken and shrimp dish since the waiter mentioned it was one of his favorites.For my soup, I ordered the Spicy Zuppa Toscana, which consisted of sausage, potato, onion and kale. I didn't think the soup tasted spicy at all, which was fine by me because I can't handle spiciness. The sausage was hearty and flavorful and the vegetables were nice and fresh. We also had unlimited salad and breadsticks. The first salad had onion, tomato, olives and the waiter added a ton of parmesan cheese shavings on top. It was pretty good, but lacked croutons, which they made sure the next batch had plenty of. The breadsticks were warm, soft and buttery.My chicken and shrimp carbonara was quite large in portion size and was very yummy. There was a good bit of both chicken and shrimp. The chicken was tender and cooked to perfection, while the shrimp was juicy and succulent. The pasta was al dente, covered in a well-seasoned sauce.It was one of my friend's birthday so he got to pick a free dessert and when I mentioned that my birthday is also in December, the waiter said I could select a free dessert as well. I thought that was really nice of him, especially because my birthday was still a couple weeks away. I had the warm apple crostata, which came with vanilla bean ice cream and caramel sauce. This was delicious! The apple filling was delightfully cinnamon-y and sweet, the outer shell was slightly crispy and the ice cream was a great finishing touch. I had to take most of it home (along with my main course) since I was so full! I also got to try the chocolate brownie lasagna that my friend ordered and it was wonderful. So rich, creamy, decadent with amazing chocolate flavor.Our waiter was awesome. He really took care of us and answered all our questions about the menu with ease. He was friendly, competent and kind. I would come back but it won't be for awhile. Next time, I want to try the steak gorgonzola alfredo entrée.\""
      ]
     },
     "execution_count": 27,
     "metadata": {},
     "output_type": "execute_result"
    }
   ],
   "source": [
    "reviews[0]"
   ]
  },
  {
   "cell_type": "code",
   "execution_count": 28,
   "id": "cb628411",
   "metadata": {},
   "outputs": [],
   "source": [
    "import numpy as np\n",
    "import pandas as pd"
   ]
  },
  {
   "cell_type": "code",
   "execution_count": 30,
   "id": "955fd3a8",
   "metadata": {},
   "outputs": [],
   "source": [
    "df = pd.DataFrame(np.array(reviews), columns=['review'])"
   ]
  },
  {
   "cell_type": "code",
   "execution_count": 33,
   "id": "4c9fd3db",
   "metadata": {},
   "outputs": [
    {
     "data": {
      "text/plain": [
       "\"I came here with a group of 10 friends for lunch after church. When we asked the hostess how long the wait time would be to seat us, she did not have an estimate. We went upstairs to wait and after only a few minutes, we were seated. However, we had to sit separately at 2 different tables. I guess it would've taken too long to have all of us seated together.There were quite a few options that caught my eye. I was debating between the chicken and shrimp carbonara pasta or the steak gorgonzola alfredo pasta. I finally decided on the chicken and shrimp dish since the waiter mentioned it was one of his favorites.For my soup, I ordered the Spicy Zuppa Toscana, which consisted of sausage, potato, onion and kale. I didn't think the soup tasted spicy at all, which was fine by me because I can't handle spiciness. The sausage was hearty and flavorful and the vegetables were nice and fresh. We also had unlimited salad and breadsticks. The first salad had onion, tomato, olives and the waiter added a ton of parmesan cheese shavings on top. It was pretty good, but lacked croutons, which they made sure the next batch had plenty of. The breadsticks were warm, soft and buttery.My chicken and shrimp carbonara was quite large in portion size and was very yummy. There was a good bit of both chicken and shrimp. The chicken was tender and cooked to perfection, while the shrimp was juicy and succulent. The pasta was al dente, covered in a well-seasoned sauce.It was one of my friend's birthday so he got to pick a free dessert and when I mentioned that my birthday is also in December, the waiter said I could select a free dessert as well. I thought that was really nice of him, especially because my birthday was still a couple weeks away. I had the warm apple crostata, which came with vanilla bean ice cream and caramel sauce. This was delicious! The apple filling was delightfully cinnamon-y and sweet, the outer shell was slightly crispy and the ice cream was a great finishing touch. I had to take most of it home (along with my main course) since I was so full! I also got to try the chocolate brownie lasagna that my friend ordered and it was wonderful. So rich, creamy, decadent with amazing chocolate flavor.Our waiter was awesome. He really took care of us and answered all our questions about the menu with ease. He was friendly, competent and kind. I would come back but it won't be for awhile. Next time, I want to try the steak gorgonzola alfredo entrée.\""
      ]
     },
     "execution_count": 33,
     "metadata": {},
     "output_type": "execute_result"
    }
   ],
   "source": [
    "df['review'].iloc[0]"
   ]
  },
  {
   "cell_type": "code",
   "execution_count": 34,
   "id": "2c8577f2",
   "metadata": {},
   "outputs": [],
   "source": [
    "def sentiment_score(review):\n",
    "    tokens = tokenizer.encode(review, return_tensors='pt')\n",
    "    result = model(tokens)\n",
    "    return int(torch.argmax(result.logits))+1"
   ]
  },
  {
   "cell_type": "code",
   "execution_count": 36,
   "id": "127b0d93",
   "metadata": {},
   "outputs": [
    {
     "data": {
      "text/plain": [
       "2"
      ]
     },
     "execution_count": 36,
     "metadata": {},
     "output_type": "execute_result"
    }
   ],
   "source": [
    "sentiment_score(df['review'].iloc[1])"
   ]
  },
  {
   "cell_type": "code",
   "execution_count": 37,
   "id": "af84e73c",
   "metadata": {},
   "outputs": [],
   "source": [
    "df['sentiment'] = df['review'].apply(lambda x: sentiment_score(x[:512]))"
   ]
  },
  {
   "cell_type": "code",
   "execution_count": 38,
   "id": "fc358ffd",
   "metadata": {},
   "outputs": [
    {
     "data": {
      "text/html": [
       "<div>\n",
       "<style scoped>\n",
       "    .dataframe tbody tr th:only-of-type {\n",
       "        vertical-align: middle;\n",
       "    }\n",
       "\n",
       "    .dataframe tbody tr th {\n",
       "        vertical-align: top;\n",
       "    }\n",
       "\n",
       "    .dataframe thead th {\n",
       "        text-align: right;\n",
       "    }\n",
       "</style>\n",
       "<table border=\"1\" class=\"dataframe\">\n",
       "  <thead>\n",
       "    <tr style=\"text-align: right;\">\n",
       "      <th></th>\n",
       "      <th>review</th>\n",
       "      <th>sentiment</th>\n",
       "    </tr>\n",
       "  </thead>\n",
       "  <tbody>\n",
       "    <tr>\n",
       "      <th>0</th>\n",
       "      <td>I came here with a group of 10 friends for lun...</td>\n",
       "      <td>3</td>\n",
       "    </tr>\n",
       "    <tr>\n",
       "      <th>1</th>\n",
       "      <td>There's no better Italian fare in New York Cit...</td>\n",
       "      <td>5</td>\n",
       "    </tr>\n",
       "    <tr>\n",
       "      <th>2</th>\n",
       "      <td>The iconic Olive Garden in Times Square! Came ...</td>\n",
       "      <td>3</td>\n",
       "    </tr>\n",
       "    <tr>\n",
       "      <th>3</th>\n",
       "      <td>Jenna Z. - We understand this was not the expe...</td>\n",
       "      <td>2</td>\n",
       "    </tr>\n",
       "    <tr>\n",
       "      <th>4</th>\n",
       "      <td>I went to an Olive Garden after 7 years, expec...</td>\n",
       "      <td>2</td>\n",
       "    </tr>\n",
       "    <tr>\n",
       "      <th>5</th>\n",
       "      <td>We're disappointed to hear this, and apologize...</td>\n",
       "      <td>2</td>\n",
       "    </tr>\n",
       "    <tr>\n",
       "      <th>6</th>\n",
       "      <td>Loved it and as usual Olive Garden never disap...</td>\n",
       "      <td>5</td>\n",
       "    </tr>\n",
       "    <tr>\n",
       "      <th>7</th>\n",
       "      <td>Love the convenient location in the city, you ...</td>\n",
       "      <td>4</td>\n",
       "    </tr>\n",
       "    <tr>\n",
       "      <th>8</th>\n",
       "      <td>Thanks for sharing your feedback, Li! If you w...</td>\n",
       "      <td>5</td>\n",
       "    </tr>\n",
       "    <tr>\n",
       "      <th>9</th>\n",
       "      <td>Food was fresh and not overly salted like in s...</td>\n",
       "      <td>4</td>\n",
       "    </tr>\n",
       "    <tr>\n",
       "      <th>10</th>\n",
       "      <td>Food was good but service was really really ba...</td>\n",
       "      <td>2</td>\n",
       "    </tr>\n",
       "    <tr>\n",
       "      <th>11</th>\n",
       "      <td>Fast service, friendly people and warm soup me...</td>\n",
       "      <td>3</td>\n",
       "    </tr>\n",
       "    <tr>\n",
       "      <th>12</th>\n",
       "      <td>When far away from Des Moines in a large overw...</td>\n",
       "      <td>4</td>\n",
       "    </tr>\n",
       "    <tr>\n",
       "      <th>13</th>\n",
       "      <td>If you want to be able to say you ate in the m...</td>\n",
       "      <td>3</td>\n",
       "    </tr>\n",
       "    <tr>\n",
       "      <th>14</th>\n",
       "      <td>Thank you for taking time to leave us a review...</td>\n",
       "      <td>5</td>\n",
       "    </tr>\n",
       "  </tbody>\n",
       "</table>\n",
       "</div>"
      ],
      "text/plain": [
       "                                               review  sentiment\n",
       "0   I came here with a group of 10 friends for lun...          3\n",
       "1   There's no better Italian fare in New York Cit...          5\n",
       "2   The iconic Olive Garden in Times Square! Came ...          3\n",
       "3   Jenna Z. - We understand this was not the expe...          2\n",
       "4   I went to an Olive Garden after 7 years, expec...          2\n",
       "5   We're disappointed to hear this, and apologize...          2\n",
       "6   Loved it and as usual Olive Garden never disap...          5\n",
       "7   Love the convenient location in the city, you ...          4\n",
       "8   Thanks for sharing your feedback, Li! If you w...          5\n",
       "9   Food was fresh and not overly salted like in s...          4\n",
       "10  Food was good but service was really really ba...          2\n",
       "11  Fast service, friendly people and warm soup me...          3\n",
       "12  When far away from Des Moines in a large overw...          4\n",
       "13  If you want to be able to say you ate in the m...          3\n",
       "14  Thank you for taking time to leave us a review...          5"
      ]
     },
     "execution_count": 38,
     "metadata": {},
     "output_type": "execute_result"
    }
   ],
   "source": [
    "df"
   ]
  },
  {
   "cell_type": "code",
   "execution_count": null,
   "id": "346d32b5",
   "metadata": {},
   "outputs": [],
   "source": [
    "df['review'].iloc[4]"
   ]
  },
  {
   "cell_type": "code",
   "execution_count": null,
   "id": "ac801475",
   "metadata": {},
   "outputs": [],
   "source": []
  },
  {
   "cell_type": "code",
   "execution_count": null,
   "id": "85a99af8",
   "metadata": {},
   "outputs": [],
   "source": []
  }
 ],
 "metadata": {
  "kernelspec": {
   "display_name": "Python 3 (ipykernel)",
   "language": "python",
   "name": "python3"
  },
  "language_info": {
   "codemirror_mode": {
    "name": "ipython",
    "version": 3
   },
   "file_extension": ".py",
   "mimetype": "text/x-python",
   "name": "python",
   "nbconvert_exporter": "python",
   "pygments_lexer": "ipython3",
   "version": "3.9.7"
  }
 },
 "nbformat": 4,
 "nbformat_minor": 5
}
